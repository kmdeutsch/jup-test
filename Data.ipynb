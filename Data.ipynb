{
  "nbformat": 4,
  "nbformat_minor": 0,
  "metadata": {
    "colab": {
      "name": "Data.ipynb",
      "version": "0.3.2",
      "provenance": []
    },
    "language_info": {
      "codemirror_mode": {
        "name": "ipython",
        "version": 3
      },
      "file_extension": ".py",
      "mimetype": "text/x-python",
      "name": "python",
      "nbconvert_exporter": "python",
      "pygments_lexer": "ipython3",
      "version": "3.7.3"
    },
    "kernelspec": {
      "display_name": "Python 3",
      "language": "python",
      "name": "python3"
    }
  },
  "cells": [
    {
      "cell_type": "code",
      "metadata": {
        "id": "JEf5hNHatLQY",
        "colab_type": "code",
        "colab": {},
        "outputId": "f8d9cc1b-9f6e-4d30-c4ab-39fcc856db10"
      },
      "source": [
        "# !pip install pandas"
      ],
      "execution_count": 0,
      "outputs": [
        {
          "output_type": "stream",
          "text": [
            "Collecting pandas\n",
            "\u001b[?25l  Downloading https://files.pythonhosted.org/packages/22/e6/2d47835f91eb010036be207581fa113fb4e3822ec1b4bafb0d3d105fede6/pandas-0.24.2-cp37-cp37m-manylinux1_x86_64.whl (10.1MB)\n",
            "\u001b[K     |████████████████████████████████| 10.1MB 3.4MB/s eta 0:00:01\n",
            "\u001b[?25hRequirement already satisfied: python-dateutil>=2.5.0 in /srv/conda/envs/notebook/lib/python3.7/site-packages (from pandas) (2.8.0)\n",
            "Collecting pytz>=2011k (from pandas)\n",
            "\u001b[?25l  Downloading https://files.pythonhosted.org/packages/3d/73/fe30c2daaaa0713420d0382b16fbb761409f532c56bdcc514bf7b6262bb6/pytz-2019.1-py2.py3-none-any.whl (510kB)\n",
            "\u001b[K     |████████████████████████████████| 512kB 43.1MB/s eta 0:00:01\n",
            "\u001b[?25hCollecting numpy>=1.12.0 (from pandas)\n",
            "\u001b[?25l  Downloading https://files.pythonhosted.org/packages/fc/d1/45be1144b03b6b1e24f9a924f23f66b4ad030d834ad31fb9e5581bd328af/numpy-1.16.4-cp37-cp37m-manylinux1_x86_64.whl (17.3MB)\n",
            "\u001b[K     |████████████████████████████████| 17.3MB 36.8MB/s eta 0:00:01\n",
            "\u001b[?25hRequirement already satisfied: six>=1.5 in /srv/conda/envs/notebook/lib/python3.7/site-packages (from python-dateutil>=2.5.0->pandas) (1.12.0)\n",
            "Installing collected packages: pytz, numpy, pandas\n",
            "Successfully installed numpy-1.16.4 pandas-0.24.2 pytz-2019.1\n"
          ],
          "name": "stdout"
        }
      ]
    },
    {
      "cell_type": "code",
      "metadata": {
        "id": "EXDgiuABtLQe",
        "colab_type": "code",
        "colab": {}
      },
      "source": [
        "# Import packages\n",
        "import os\n",
        "import pandas as pd"
      ],
      "execution_count": 0,
      "outputs": []
    },
    {
      "cell_type": "code",
      "metadata": {
        "id": "ydL3mQ-BtLQg",
        "colab_type": "code",
        "colab": {}
      },
      "source": [
        "# Define data files\n",
        "MOVIELENS_DIR = 'data'\n",
        "USER_DATA_FILE = 'users.dat'\n",
        "MOVIE_DATA_FILE = 'movies.dat'\n",
        "RATING_DATA_FILE = 'ratings.dat'"
      ],
      "execution_count": 0,
      "outputs": []
    },
    {
      "cell_type": "code",
      "metadata": {
        "id": "3ii1pqUu83k2",
        "colab_type": "code",
        "colab": {}
      },
      "source": [
        "# Specify User's Age and Occupation Column\n",
        "AGES = { 1: \"Under 18\", 18: \"18-24\", 25: \"25-34\", 35: \"35-44\", 45: \"45-49\", 50: \"50-55\", 56: \"56+\" }\n",
        "OCCUPATIONS = { 0: \"other or not specified\", 1: \"academic/educator\", 2: \"artist\", 3: \"clerical/admin\",\n",
        "                4: \"college/grad student\", 5: \"customer service\", 6: \"doctor/health care\",\n",
        "                7: \"executive/managerial\", 8: \"farmer\", 9: \"homemaker\", 10: \"K-12 student\", 11: \"lawyer\",\n",
        "                12: \"programmer\", 13: \"retired\", 14: \"sales/marketing\", 15: \"scientist\", 16: \"self-employed\",\n",
        "                17: \"technician/engineer\", 18: \"tradesman/craftsman\", 19: \"unemployed\", 20: \"writer\" }"
      ],
      "execution_count": 0,
      "outputs": []
    },
    {
      "cell_type": "code",
      "metadata": {
        "id": "JKJbYC2t2NPz",
        "colab_type": "code",
        "colab": {}
      },
      "source": [
        "# Define csv files to be saved into\n",
        "USERS_CSV_FILE = 'users.csv'\n",
        "MOVIES_CSV_FILE = 'movies.csv'\n",
        "RATINGS_CSV_FILE = 'ratings.csv'"
      ],
      "execution_count": 0,
      "outputs": []
    },
    {
      "cell_type": "code",
      "metadata": {
        "id": "IWiTW8pltLQi",
        "colab_type": "code",
        "colab": {}
      },
      "source": [
        "# Read the Ratings File\n",
        "ratings_url = 'https://raw.githubusercontent.com/kmdeutsch/jup-test/master/data/ratings.dat'\n",
        "ratings = pd.read_csv(ratings_url, #os.path.join(MOVIELENS_DIR, RATING_DATA_FILE), \n",
        "                    sep='::', \n",
        "                    engine='python', \n",
        "                    encoding='latin-1',\n",
        "                    names=['user_id', 'movie_id', 'rating', 'timestamp'])"
      ],
      "execution_count": 0,
      "outputs": []
    },
    {
      "cell_type": "code",
      "metadata": {
        "id": "4nRxP-y-tgdt",
        "colab_type": "code",
        "colab": {
          "base_uri": "https://localhost:8080/",
          "height": 34
        },
        "outputId": "af711e3d-8c3c-46e6-f61d-42fc7fa6b900"
      },
      "source": [
        "# Set max_userid to the maximum user_id in the ratings\n",
        "max_userid = ratings['user_id'].drop_duplicates().max()\n",
        "# Set max_movieid to the maximum movie_id in the ratings\n",
        "max_movieid = ratings['movie_id'].drop_duplicates().max()\n",
        "\n",
        "# Process ratings dataframe for Keras Deep Learning model\n",
        "# Add user_emb_id column whose values == user_id - 1\n",
        "ratings['user_emb_id'] = ratings['user_id'] - 1\n",
        "# Add movie_emb_id column whose values == movie_id - 1\n",
        "ratings['movie_emb_id'] = ratings['movie_id'] - 1\n",
        "\n",
        "print (len(ratings), 'ratings loaded')"
      ],
      "execution_count": 15,
      "outputs": [
        {
          "output_type": "stream",
          "text": [
            "1000209 ratings loaded\n"
          ],
          "name": "stdout"
        }
      ]
    },
    {
      "cell_type": "code",
      "metadata": {
        "id": "yYF97FU2wL8y",
        "colab_type": "code",
        "colab": {
          "base_uri": "https://localhost:8080/",
          "height": 34
        },
        "outputId": "6675538b-ff75-4b85-a72d-e4e0e32e1cfb"
      },
      "source": [
        "\n",
        "# Save into ratings.csv\n",
        "ratings.to_csv(RATINGS_CSV_FILE, \n",
        "               sep='\\t', \n",
        "               header=True, \n",
        "               encoding='latin-1', \n",
        "               columns=['user_id', 'movie_id', 'rating', 'timestamp', 'user_emb_id', 'movie_emb_id'])\n",
        "print ('Saved to', RATINGS_CSV_FILE)"
      ],
      "execution_count": 16,
      "outputs": [
        {
          "output_type": "stream",
          "text": [
            "Saved to ratings.csv\n"
          ],
          "name": "stdout"
        }
      ]
    },
    {
      "cell_type": "code",
      "metadata": {
        "id": "JMFmJvac2F8C",
        "colab_type": "code",
        "colab": {
          "base_uri": "https://localhost:8080/",
          "height": 34
        },
        "outputId": "caa827fe-0a72-4cb8-a66b-bb05519beb17"
      },
      "source": [
        "# Read the Users File\n",
        "users_url = 'https://raw.githubusercontent.com/kmdeutsch/jup-test/master/data/users.dat'\n",
        "users = pd.read_csv(users_url, #os.path.join(MOVIELENS_DIR, USER_DATA_FILE), \n",
        "                    sep='::', \n",
        "                    engine='python', \n",
        "                    encoding='latin-1',\n",
        "                    names=['user_id', 'gender', 'age', 'occupation', 'zipcode'])\n",
        "users['age_desc'] = users['age'].apply(lambda x: AGES[x])\n",
        "users['occ_desc'] = users['occupation'].apply(lambda x: OCCUPATIONS[x])\n",
        "print (len(users), 'descriptions of', max_userid, 'users loaded.')"
      ],
      "execution_count": 12,
      "outputs": [
        {
          "output_type": "stream",
          "text": [
            "6040 descriptions of 6040 users loaded.\n"
          ],
          "name": "stdout"
        }
      ]
    },
    {
      "cell_type": "code",
      "metadata": {
        "id": "YHe-b8bA8kd7",
        "colab_type": "code",
        "colab": {
          "base_uri": "https://localhost:8080/",
          "height": 34
        },
        "outputId": "7bbc5042-be01-48ac-c233-ec6c7acb9438"
      },
      "source": [
        "# Save into users.csv\n",
        "users.to_csv(USERS_CSV_FILE, \n",
        "             sep='\\t', \n",
        "             header=True, \n",
        "             encoding='latin-1',\n",
        "             columns=['user_id', 'gender', 'age', 'occupation', 'zipcode', 'age_desc', 'occ_desc'])\n",
        "print ('Saved to', USERS_CSV_FILE)"
      ],
      "execution_count": 13,
      "outputs": [
        {
          "output_type": "stream",
          "text": [
            "Saved to users.csv\n"
          ],
          "name": "stdout"
        }
      ]
    },
    {
      "cell_type": "code",
      "metadata": {
        "id": "rLVAZ1y49hq5",
        "colab_type": "code",
        "colab": {
          "base_uri": "https://localhost:8080/",
          "height": 34
        },
        "outputId": "83db0fb8-d389-4398-d6d7-b1ee0dc535e2"
      },
      "source": [
        "# Read the Movies File\n",
        "movies_url = 'https://raw.githubusercontent.com/kmdeutsch/jup-test/master/data/movies.dat'\n",
        "movies = pd.read_csv(movies_url, #os.path.join(MOVIELENS_DIR, USER_DATA_FILE), \n",
        "                    sep='::', \n",
        "                    engine='python', \n",
        "                    encoding='latin-1',\n",
        "                    names=['movie_id', 'title', 'genres'])\n",
        "print (len(movies), 'descriptions of', max_movieid, 'movies loaded.')"
      ],
      "execution_count": 17,
      "outputs": [
        {
          "output_type": "stream",
          "text": [
            "3883 descriptions of 3952 movies loaded.\n"
          ],
          "name": "stdout"
        }
      ]
    },
    {
      "cell_type": "code",
      "metadata": {
        "id": "YWdNA3WcQVbY",
        "colab_type": "code",
        "colab": {
          "base_uri": "https://localhost:8080/",
          "height": 34
        },
        "outputId": "4a7037da-d163-41d7-9af9-392f655c6497"
      },
      "source": [
        "# Save into movies.csv\n",
        "movies.to_csv(MOVIES_CSV_FILE, \n",
        "              sep='\\t', \n",
        "              header=True, \n",
        "              columns=['movie_id', 'title', 'genres'])\n",
        "print ('Saved to', MOVIES_CSV_FILE)"
      ],
      "execution_count": 19,
      "outputs": [
        {
          "output_type": "stream",
          "text": [
            "Saved to movies.csv\n"
          ],
          "name": "stdout"
        }
      ]
    },
    {
      "cell_type": "code",
      "metadata": {
        "id": "TnjZCxyeQfgI",
        "colab_type": "code",
        "colab": {}
      },
      "source": [
        ""
      ],
      "execution_count": 0,
      "outputs": []
    }
  ]
}