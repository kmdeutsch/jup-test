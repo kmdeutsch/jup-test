{
  "nbformat": 4,
  "nbformat_minor": 0,
  "metadata": {
    "colab": {
      "name": "Data.ipynb",
      "version": "0.3.2",
      "provenance": []
    },
    "language_info": {
      "codemirror_mode": {
        "name": "ipython",
        "version": 3
      },
      "file_extension": ".py",
      "mimetype": "text/x-python",
      "name": "python",
      "nbconvert_exporter": "python",
      "pygments_lexer": "ipython3",
      "version": "3.7.3"
    },
    "kernelspec": {
      "display_name": "Python 3",
      "language": "python",
      "name": "python3"
    }
  },
  "cells": [
    {
      "cell_type": "code",
      "metadata": {
        "id": "JEf5hNHatLQY",
        "colab_type": "code",
        "colab": {},
        "outputId": "f8d9cc1b-9f6e-4d30-c4ab-39fcc856db10"
      },
      "source": [
        "# !pip install pandas"
      ],
      "execution_count": 0,
      "outputs": [
        {
          "output_type": "stream",
          "text": [
            "Collecting pandas\n",
            "\u001b[?25l  Downloading https://files.pythonhosted.org/packages/22/e6/2d47835f91eb010036be207581fa113fb4e3822ec1b4bafb0d3d105fede6/pandas-0.24.2-cp37-cp37m-manylinux1_x86_64.whl (10.1MB)\n",
            "\u001b[K     |████████████████████████████████| 10.1MB 3.4MB/s eta 0:00:01\n",
            "\u001b[?25hRequirement already satisfied: python-dateutil>=2.5.0 in /srv/conda/envs/notebook/lib/python3.7/site-packages (from pandas) (2.8.0)\n",
            "Collecting pytz>=2011k (from pandas)\n",
            "\u001b[?25l  Downloading https://files.pythonhosted.org/packages/3d/73/fe30c2daaaa0713420d0382b16fbb761409f532c56bdcc514bf7b6262bb6/pytz-2019.1-py2.py3-none-any.whl (510kB)\n",
            "\u001b[K     |████████████████████████████████| 512kB 43.1MB/s eta 0:00:01\n",
            "\u001b[?25hCollecting numpy>=1.12.0 (from pandas)\n",
            "\u001b[?25l  Downloading https://files.pythonhosted.org/packages/fc/d1/45be1144b03b6b1e24f9a924f23f66b4ad030d834ad31fb9e5581bd328af/numpy-1.16.4-cp37-cp37m-manylinux1_x86_64.whl (17.3MB)\n",
            "\u001b[K     |████████████████████████████████| 17.3MB 36.8MB/s eta 0:00:01\n",
            "\u001b[?25hRequirement already satisfied: six>=1.5 in /srv/conda/envs/notebook/lib/python3.7/site-packages (from python-dateutil>=2.5.0->pandas) (1.12.0)\n",
            "Installing collected packages: pytz, numpy, pandas\n",
            "Successfully installed numpy-1.16.4 pandas-0.24.2 pytz-2019.1\n"
          ],
          "name": "stdout"
        }
      ]
    },
    {
      "cell_type": "code",
      "metadata": {
        "id": "EXDgiuABtLQe",
        "colab_type": "code",
        "colab": {}
      },
      "source": [
        "# Import packages\n",
        "import os\n",
        "import pandas as pd"
      ],
      "execution_count": 0,
      "outputs": []
    },
    {
      "cell_type": "code",
      "metadata": {
        "id": "ydL3mQ-BtLQg",
        "colab_type": "code",
        "colab": {}
      },
      "source": [
        "# Define data files\n",
        "MOVIELENS_DIR = 'data'\n",
        "USER_DATA_FILE = 'users.dat'\n",
        "MOVIE_DATA_FILE = 'movies.dat'\n",
        "RATING_DATA_FILE = 'ratings.dat'"
      ],
      "execution_count": 0,
      "outputs": []
    },
    {
      "cell_type": "code",
      "metadata": {
        "id": "IWiTW8pltLQi",
        "colab_type": "code",
        "colab": {}
      },
      "source": [
        "# Read the Ratings File\n",
        "ratings_url = 'https://raw.githubusercontent.com/kmdeutsch/jup-test/master/data/ratings.dat'\n",
        "ratings = pd.read_csv(ratings_url, \n",
        "                    sep='::', \n",
        "                    engine='python', \n",
        "                    encoding='latin-1',\n",
        "                    names=['user_id', 'movie_id', 'rating', 'timestamp'])"
      ],
      "execution_count": 0,
      "outputs": []
    },
    {
      "cell_type": "code",
      "metadata": {
        "id": "4nRxP-y-tgdt",
        "colab_type": "code",
        "colab": {
          "base_uri": "https://localhost:8080/",
          "height": 34
        },
        "outputId": "d707bfa2-a454-4d8d-983d-d8ceac92df5a"
      },
      "source": [
        "# Set max_userid to the maximum user_id in the ratings\n",
        "max_userid = ratings['user_id'].drop_duplicates().max()\n",
        "# Set max_movieid to the maximum movie_id in the ratings\n",
        "max_movieid = ratings['movie_id'].drop_duplicates().max()\n",
        "\n",
        "print (len(ratings), 'ratings loaded')"
      ],
      "execution_count": 6,
      "outputs": [
        {
          "output_type": "stream",
          "text": [
            "1000209 ratings loaded\n"
          ],
          "name": "stdout"
        }
      ]
    },
    {
      "cell_type": "code",
      "metadata": {
        "id": "yYF97FU2wL8y",
        "colab_type": "code",
        "colab": {}
      },
      "source": [
        ""
      ],
      "execution_count": 0,
      "outputs": []
    }
  ]
}